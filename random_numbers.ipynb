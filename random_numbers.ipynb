{
 "cells": [
  {
   "cell_type": "code",
   "execution_count": 2,
   "id": "b6d5ed95",
   "metadata": {},
   "outputs": [],
   "source": [
    "# Import the random module.\n",
    "import random"
   ]
  },
  {
   "cell_type": "code",
   "execution_count": 3,
   "id": "09fa525b",
   "metadata": {},
   "outputs": [
    {
     "data": {
      "text/plain": [
       "-28"
      ]
     },
     "execution_count": 3,
     "metadata": {},
     "output_type": "execute_result"
    }
   ],
   "source": [
    "# Returns a random integer between -90 and 90.\n",
    "random.randint(-90, 90)"
   ]
  },
  {
   "cell_type": "code",
   "execution_count": 4,
   "id": "da253e01",
   "metadata": {},
   "outputs": [
    {
     "data": {
      "text/plain": [
       "0.1614653373189735"
      ]
     },
     "execution_count": 4,
     "metadata": {},
     "output_type": "execute_result"
    }
   ],
   "source": [
    "# Returns a single floating-point decimal number between 0 and 1.0.\n",
    "random.random()"
   ]
  },
  {
   "cell_type": "code",
   "execution_count": 5,
   "id": "14068575",
   "metadata": {},
   "outputs": [
    {
     "data": {
      "text/plain": [
       "-12"
      ]
     },
     "execution_count": 5,
     "metadata": {},
     "output_type": "execute_result"
    }
   ],
   "source": [
    "# Returns a random integer between -90 and 90, \n",
    "# where the difference between each number in the sequence is 3.\n",
    "random.randrange(-90, 90, step=3)"
   ]
  },
  {
   "cell_type": "code",
   "execution_count": 6,
   "id": "7d91b861",
   "metadata": {},
   "outputs": [
    {
     "data": {
      "text/plain": [
       "-11.656654692629374"
      ]
     },
     "execution_count": 6,
     "metadata": {},
     "output_type": "execute_result"
    }
   ],
   "source": [
    "# Returns a random floating-point decimal number between two given numbers\n",
    "# inside the parentheses.\n",
    "random.uniform(-90,90)"
   ]
  },
  {
   "cell_type": "code",
   "execution_count": 7,
   "id": "bb1a9f52",
   "metadata": {},
   "outputs": [],
   "source": [
    "# Import the NumPy module.\n",
    "import numpy as np"
   ]
  },
  {
   "cell_type": "code",
   "execution_count": 10,
   "id": "3031097a",
   "metadata": {},
   "outputs": [
    {
     "data": {
      "text/plain": [
       "-42.37000761647523"
      ]
     },
     "execution_count": 10,
     "metadata": {},
     "output_type": "execute_result"
    }
   ],
   "source": [
    "# Generates a floating-point decimal number between -90.000 and 90.000.\n",
    "# Adding the zeros past the decimal places is optional.\n",
    "np.random.uniform(-90, 90)"
   ]
  },
  {
   "cell_type": "code",
   "execution_count": 9,
   "id": "fb7f6809",
   "metadata": {},
   "outputs": [
    {
     "data": {
      "text/plain": [
       "31.4598109262744"
      ]
     },
     "execution_count": 9,
     "metadata": {},
     "output_type": "execute_result"
    }
   ],
   "source": [
    "# The above function can also be written as:\n",
    "np.random.uniform(low=-.90, high=90)"
   ]
  },
  {
   "cell_type": "code",
   "execution_count": 14,
   "id": "8ab3cf57",
   "metadata": {},
   "outputs": [
    {
     "data": {
      "text/plain": [
       "array([-57.68620453, -85.40343599,  84.26988094,  62.81539171,\n",
       "       -66.72310864, -36.43316866, -52.29040506,  62.62317333,\n",
       "        73.18054502,  54.79101817,  11.33970089, -65.44231953,\n",
       "        -4.3018193 ,  56.97487225,  46.99015484, -88.43871139,\n",
       "       -41.76274543, -12.32912737, -21.04971928,   5.8924093 ,\n",
       "        26.49025039,  35.60359252,  43.57873228, -30.6091833 ,\n",
       "        29.01289014,   0.6132211 , -42.21059975,  66.38066475,\n",
       "       -87.38221982, -57.1270527 , -86.03499593, -66.91606272,\n",
       "        28.07574177, -44.42549942, -20.8137323 ,  74.49908356,\n",
       "       -61.73637895, -75.28942125, -12.11726118,  25.0181505 ,\n",
       "        11.67137381, -46.503304  ,  12.35142339,  61.50301698,\n",
       "        70.22921855,  23.14420909, -31.89317151, -49.94158096,\n",
       "       -87.56297466,  66.66924238])"
      ]
     },
     "execution_count": 14,
     "metadata": {},
     "output_type": "execute_result"
    }
   ],
   "source": [
    "np.random.uniform(-90.000, 90.000, size=50)"
   ]
  },
  {
   "cell_type": "code",
   "execution_count": 15,
   "id": "280ad036",
   "metadata": {},
   "outputs": [],
   "source": [
    "# Import timeit.\n",
    "import timeit"
   ]
  },
  {
   "cell_type": "code",
   "execution_count": 16,
   "id": "9b143ae1",
   "metadata": {},
   "outputs": [
    {
     "name": "stdout",
     "output_type": "stream",
     "text": [
      "24.1 µs ± 477 ns per loop (mean ± std. dev. of 7 runs, 10000 loops each)\n"
     ]
    }
   ],
   "source": [
    "%timeit np.random.uniform(-90.000, 90.000, size=1500)"
   ]
  },
  {
   "cell_type": "code",
   "execution_count": 17,
   "id": "cd0ec308",
   "metadata": {},
   "outputs": [
    {
     "name": "stdout",
     "output_type": "stream",
     "text": [
      "1.15 ms ± 8.4 µs per loop (mean ± std. dev. of 7 runs, 1000 loops each)\n"
     ]
    }
   ],
   "source": [
    "def latitudes(size):\n",
    "    latitudes = []\n",
    "    x = 0\n",
    "    while x < (size):\n",
    "        random_lat = random.randint(-90, 90) + random.random()\n",
    "        latitudes.append(random_lat)\n",
    "        x += 1\n",
    "    return latitudes\n",
    "\n",
    "# Call the function with 1500.\n",
    "%timeit latitudes(1500)"
   ]
  },
  {
   "cell_type": "code",
   "execution_count": null,
   "id": "8d9a5b62",
   "metadata": {},
   "outputs": [],
   "source": []
  }
 ],
 "metadata": {
  "kernelspec": {
   "display_name": "PythonData",
   "language": "python",
   "name": "pythondata"
  },
  "language_info": {
   "codemirror_mode": {
    "name": "ipython",
    "version": 3
   },
   "file_extension": ".py",
   "mimetype": "text/x-python",
   "name": "python",
   "nbconvert_exporter": "python",
   "pygments_lexer": "ipython3",
   "version": "3.8.8"
  }
 },
 "nbformat": 4,
 "nbformat_minor": 5
}
